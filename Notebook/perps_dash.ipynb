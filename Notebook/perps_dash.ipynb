{
 "cells": [
  {
   "cell_type": "code",
   "execution_count": 7,
   "id": "09d86815",
   "metadata": {},
   "outputs": [
    {
     "name": "stdout",
     "output_type": "stream",
     "text": [
      "Available Exchange IDs:\n",
      "- binance_futures\n",
      "- bybit\n",
      "- bitget_futures\n",
      "- gate_futures\n",
      "- coinw_futures\n",
      "- weex-futures\n",
      "- hyperliquid\n",
      "- okex_swap\n",
      "- xt_derivatives\n",
      "- bitmart_futures\n",
      "- coincatch_derivatives\n",
      "- huobi_dm\n",
      "- mxc_futures\n",
      "- toobit_derivatives\n",
      "- whitebit_futures\n",
      "- deepcoin_derivatives\n",
      "- bingx_futures\n",
      "- bitvenus\n",
      "- kumex\n",
      "- lbank-futures\n"
     ]
    }
   ],
   "source": [
    "import requests\n",
    "import os\n",
    "from dotenv import load_dotenv\n",
    "\n",
    "load_dotenv()\n",
    "GECKO_API = os.getenv(\"GECKO_API\")\n",
    "\n",
    "url = \"https://api.coingecko.com/api/v3/derivatives/exchanges\"\n",
    "\n",
    "headers = {\n",
    "    \"accept\": \"application/json\",\n",
    "    \"x-cg-api-key\": GECKO_API\n",
    "}\n",
    "\n",
    "response = requests.get(url, headers=headers)\n",
    "data = response.json()\n",
    "\n",
    "# Extract just the IDs\n",
    "exchange_ids = [ex[\"id\"] for ex in data]\n",
    "\n",
    "print(\"Available Exchange IDs:\")\n",
    "for ex_id in exchange_ids:\n",
    "    print(\"-\", ex_id)\n"
   ]
  },
  {
   "cell_type": "code",
   "execution_count": 8,
   "id": "adcd0f01",
   "metadata": {},
   "outputs": [
    {
     "name": "stdout",
     "output_type": "stream",
     "text": [
      "{\"name\":\"Binance (Futures)\",\"open_interest_btc\":341205.1,\"trade_volume_24h_btc\":\"891700.79\",\"number_of_perpetual_pairs\":546,\"number_of_futures_pairs\":31,\"image\":\"https://coin-images.coingecko.com/markets/images/466/small/binance_futures.jpg?1706864452\",\"year_established\":2019,\"country\":null,\"description\":\"\",\"url\":\"https://www.binance.com/\"}\n"
     ]
    }
   ],
   "source": [
    "import requests\n",
    "import os\n",
    "from dotenv import load_dotenv\n",
    "\n",
    "load_dotenv()\n",
    "GECKO_API = os.getenv('GECKO_API')\n",
    "id = 'binance_futures'\n",
    "\n",
    "url = f\"https://api.coingecko.com/api/v3/derivatives/exchanges/{id}\"\n",
    "\n",
    "headers = {\"accept\": \"application/json\" , \"x-cg-api-key\": GECKO_API}\n",
    "\n",
    "response = requests.get(url, headers=headers)\n",
    "\n",
    "print(response.text)"
   ]
  },
  {
   "cell_type": "code",
   "execution_count": 10,
   "id": "4b3d7033",
   "metadata": {},
   "outputs": [
    {
     "name": "stdout",
     "output_type": "stream",
     "text": [
      "⚠️ Request error on hyperliquid: 429 Client Error: Too Many Requests for url: https://api.coingecko.com/api/v3/derivatives/exchanges/hyperliquid\n",
      "⚠️ Request error on weex-futures: 429 Client Error: Too Many Requests for url: https://api.coingecko.com/api/v3/derivatives/exchanges/weex-futures\n",
      "⚠️ Request error on okex_swap: 429 Client Error: Too Many Requests for url: https://api.coingecko.com/api/v3/derivatives/exchanges/okex_swap\n",
      "⚠️ Request error on xt_derivatives: 429 Client Error: Too Many Requests for url: https://api.coingecko.com/api/v3/derivatives/exchanges/xt_derivatives\n",
      "⚠️ Request error on bitmart_futures: 429 Client Error: Too Many Requests for url: https://api.coingecko.com/api/v3/derivatives/exchanges/bitmart_futures\n",
      "⚠️ Request error on coincatch_derivatives: 429 Client Error: Too Many Requests for url: https://api.coingecko.com/api/v3/derivatives/exchanges/coincatch_derivatives\n",
      "⚠️ Request error on huobi_dm: 429 Client Error: Too Many Requests for url: https://api.coingecko.com/api/v3/derivatives/exchanges/huobi_dm\n",
      "⚠️ Request error on mxc_futures: ('Connection aborted.', ConnectionResetError(10054, 'An existing connection was forcibly closed by the remote host', None, 10054, None))\n",
      "⚠️ Request error on toobit_derivatives: 429 Client Error: Too Many Requests for url: https://api.coingecko.com/api/v3/derivatives/exchanges/toobit_derivatives\n",
      "⚠️ Request error on whitebit_futures: 429 Client Error: Too Many Requests for url: https://api.coingecko.com/api/v3/derivatives/exchanges/whitebit_futures\n",
      "⚠️ Request error on deepcoin_derivatives: 429 Client Error: Too Many Requests for url: https://api.coingecko.com/api/v3/derivatives/exchanges/deepcoin_derivatives\n",
      "⚠️ Request error on bingx_futures: 429 Client Error: Too Many Requests for url: https://api.coingecko.com/api/v3/derivatives/exchanges/bingx_futures\n",
      "⚠️ Request error on bitvenus: 429 Client Error: Too Many Requests for url: https://api.coingecko.com/api/v3/derivatives/exchanges/bitvenus\n",
      "⚠️ Request error on kumex: 429 Client Error: Too Many Requests for url: https://api.coingecko.com/api/v3/derivatives/exchanges/kumex\n",
      "⚠️ Request error on lbank-futures: 429 Client Error: Too Many Requests for url: https://api.coingecko.com/api/v3/derivatives/exchanges/lbank-futures\n",
      "Empty DataFrame\n",
      "Columns: []\n",
      "Index: []\n",
      "✅ Data saved to funding_open_interest.csv\n"
     ]
    }
   ],
   "source": [
    "import requests\n",
    "import os\n",
    "import pandas as pd\n",
    "import time\n",
    "from dotenv import load_dotenv\n",
    "\n",
    "# Load API key\n",
    "load_dotenv()\n",
    "GECKO_API = os.getenv(\"GECKO_API\")\n",
    "\n",
    "BASE_URL = \"https://api.coingecko.com/api/v3/derivatives/exchanges\"\n",
    "\n",
    "headers = {\n",
    "    \"accept\": \"application/json\",\n",
    "    \"x-cg-api-key\": GECKO_API\n",
    "}\n",
    "\n",
    "# --- Helper function with retry logic ---\n",
    "def fetch_exchange_data(ex_id, retries=3, delay=2):\n",
    "    url = f\"{BASE_URL}/{ex_id}\"\n",
    "    for attempt in range(retries):\n",
    "        try:\n",
    "            r = requests.get(url, headers=headers, timeout=30)\n",
    "            r.raise_for_status()\n",
    "            return r.json()\n",
    "        except requests.exceptions.SSLError as e:\n",
    "            print(f\"⚠️ SSL error on {ex_id}, retrying... ({attempt+1}/{retries})\")\n",
    "            time.sleep(delay)\n",
    "        except requests.exceptions.RequestException as e:\n",
    "            print(f\"⚠️ Request error on {ex_id}: {e}\")\n",
    "            return None\n",
    "    print(f\"❌ Skipping {ex_id} after {retries} failed attempts.\")\n",
    "    return None\n",
    "\n",
    "# 1. Get all exchange IDs\n",
    "resp = requests.get(BASE_URL, headers=headers)\n",
    "exchanges = resp.json()\n",
    "exchange_ids = [ex[\"id\"] for ex in exchanges]\n",
    "\n",
    "# 2. Loop through exchanges and collect funding data\n",
    "funding_data = []\n",
    "\n",
    "for ex_id in exchange_ids:\n",
    "    ex_data = fetch_exchange_data(ex_id)\n",
    "    if not ex_data:\n",
    "        continue  # skip failed exchange\n",
    "    \n",
    "    name = ex_data.get(\"name\")\n",
    "    tickers = ex_data.get(\"tickers\", [])\n",
    "    \n",
    "    for t in tickers:\n",
    "        if t.get(\"contract_type\") == \"perpetual\":  # only perpetual contracts\n",
    "            funding_data.append({\n",
    "                \"exchange_id\": ex_id,\n",
    "                \"exchange_name\": name,\n",
    "                \"symbol\": t.get(\"symbol\"),\n",
    "                \"base\": t.get(\"base\"),\n",
    "                \"target\": t.get(\"target\"),\n",
    "                \"funding_rate\": t.get(\"funding_rate\"),\n",
    "                \"open_interest_usd\": t.get(\"open_interest_usd\"),\n",
    "                \"h24_volume\": t.get(\"h24_volume\"),\n",
    "                \"trade_url\": t.get(\"trade_url\")\n",
    "            })\n",
    "    \n",
    "    time.sleep(1)  # throttle requests to avoid SSL/rate-limit issues\n",
    "\n",
    "# 3. Save to DataFrame\n",
    "df = pd.DataFrame(funding_data)\n",
    "print(df.head())\n",
    "\n",
    "df.to_csv(\"funding_open_interest.csv\", index=False)\n",
    "print(\"✅ Data saved to funding_open_interest.csv\")\n"
   ]
  },
  {
   "cell_type": "code",
   "execution_count": 4,
   "id": "c5f8596e",
   "metadata": {},
   "outputs": [
    {
     "name": "stdout",
     "output_type": "stream",
     "text": [
      "API Key: CG-tEqpaCHxWu8hm5kFHc7AbC98\n"
     ]
    }
   ],
   "source": [
    "print(\"API Key:\", GECKO_API)\n"
   ]
  }
 ],
 "metadata": {
  "kernelspec": {
   "display_name": "funding_perps",
   "language": "python",
   "name": "python3"
  },
  "language_info": {
   "codemirror_mode": {
    "name": "ipython",
    "version": 3
   },
   "file_extension": ".py",
   "mimetype": "text/x-python",
   "name": "python",
   "nbconvert_exporter": "python",
   "pygments_lexer": "ipython3",
   "version": "3.13.6"
  }
 },
 "nbformat": 4,
 "nbformat_minor": 5
}
